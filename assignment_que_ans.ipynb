{
 "cells": [
  {
   "cell_type": "markdown",
   "metadata": {},
   "source": [
    "### Assignment-based Subjective Questions"
   ]
  },
  {
   "cell_type": "code",
   "execution_count": null,
   "metadata": {},
   "outputs": [],
   "source": [
    "#Q1)From your analysis of the categorical variables from the dataset, what could you infer about \n",
    "# their effect on the dependent variable?       \n",
    "\n",
    "### ANSWER ####\n",
    "'''\n",
    "To analyze the effect of categorical variables on the dependent variable, we can break it down into a few key steps. Typically, this is done \n",
    "using exploratory data analysis (EDA) and statistical techniques like cross-tabulation, chi-square tests, and visualizations \n",
    "(such as bar charts or box plots) to determine relationships between the categorical variables and the dependent variable.\n",
    "\n",
    "Here's a general approach to analyzing the effect of categorical variables:\n",
    "\n",
    "1. Cross-Tabulation\n",
    "   - Method: For each categorical variable, create a cross-tabulation or contingency table to observe how the values of the categorical \n",
    "    variables are distributed across the dependent variable categories.\n",
    "   - Inference: This helps in identifying patterns or imbalances. For example, if you are looking at default status (dependent variable), you can see if certain categories (e.g., \"employment type\") have higher rates of default.\n",
    "\n",
    "### 2. Chi-Square Test of Independence\n",
    "   - Method: Perform a chi-square test to assess if there is a statistically significant relationship between a categorical variable and the dependent variable.\n",
    "   - Inference: If the test shows a significant result (p-value < 0.05), this suggests that the categorical variable might influence the dependent variable. For example, loan type could significantly affect the likelihood of default.\n",
    "\n",
    "### 3. Bar Charts and Count Plots\n",
    "   - Method: Use bar charts or count plots to visualize the distribution of the dependent variable across different categories.\n",
    "   - Inference: Visualizing the distribution can give a clear idea of the relationship. For instance, if a particular category (e.g., \"marital status\") leads to a significantly higher proportion of defaults, it indicates that the category may be a key driver of the dependent variable.\n",
    "\n",
    "### 4. Categorical Encoding (One-Hot or Label Encoding)\n",
    "   - Method: Encode categorical variables and then use logistic regression or decision trees to assess the effect of these encoded variables on the dependent variable.\n",
    "   - Inference: The importance of each categorical feature can be gauged from the model’s coefficients (in regression) or feature importance scores (in decision trees or random forests).\n",
    "\n",
    "### 5. Box Plots (for ordinal categories)\n",
    "   - Method: For ordinal categorical variables, box plots can show how the dependent variable (if continuous) varies across different categories.\n",
    "   - Inference: If there is a clear trend or difference in the distribution across categories, it suggests an influence on the dependent variable. For example, income brackets might show a clear difference in loan default likelihood.\n",
    "\n",
    "### Sample Inference:\n",
    "- If you have education level as a categorical variable and loan default as the dependent variable, you might find that people with higher education levels tend to default less. This would indicate that education level has a negative correlation with loan default.\n",
    "\n",
    "The exact inference depends on your dataset and the specific variables in question, but these are general approaches used to infer the effect of categorical variables on a dependent variable.\n",
    "'''"
   ]
  }
 ],
 "metadata": {
  "language_info": {
   "name": "python"
  }
 },
 "nbformat": 4,
 "nbformat_minor": 2
}
