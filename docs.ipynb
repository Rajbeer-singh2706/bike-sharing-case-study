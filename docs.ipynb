{
 "cells": [
  {
   "cell_type": "code",
   "execution_count": null,
   "metadata": {},
   "outputs": [],
   "source": [
    "# Bike sharing assigment \n",
    "'''\n",
    "This assignment is a programming assignment wherein you have to build a multiple linear regression model for the prediction of demand for \n",
    "shared bikes. You will need to submit a Jupyter notebook for the same. \n",
    "\n",
    "'''"
   ]
  },
  {
   "cell_type": "code",
   "execution_count": null,
   "metadata": {},
   "outputs": [],
   "source": [
    "# problem Statement\n",
    "''''\n",
    "A bike-sharing system is a service in which bikes are made available for shared use to individuals on a short term basis for a price or free. \n",
    "Many bike share systems allow people to borrow a bike from a \"dock\" which is usually computer-controlled wherein the user enters the payment \n",
    "information, and the system unlocks it. This bike can then be returned to another dock belonging to the same system.\n",
    "\n",
    "A US bike-sharing provider BoomBikes has recently suffered considerable dips in their revenues due to the ongoing Corona pandemic. \n",
    "The company is finding it very difficult to sustain in the current market scenario. So, it has decided to come up with a mindful business \n",
    "plan to be able to accelerate its revenue as soon as the ongoing lockdown comes to an end, and the economy restores to a healthy state. \n",
    "\n",
    "\n",
    "In such an attempt, BoomBikes aspires to understand the demand for shared bikes among the people after this ongoing quarantine situation \n",
    "ends across the nation due to Covid-19. They have planned this to prepare themselves to cater to the people's needs once the situation \n",
    "gets better all around and stand out from other service providers and make huge profits.\n",
    "\n",
    "\n",
    "They have contracted a consulting company to understand the factors on which the demand for these shared bikes depends. \n",
    "Specifically, they want to understand the factors affecting the demand for these shared bikes in the American market. \n",
    "The company wants to know:\n",
    "\n",
    "    * Which variables are significant in predicting the demand for shared bikes.\n",
    "    * How well those variables describe the bike demands\n",
    "\n",
    "Based on various meteorological surveys and people's styles, the service provider firm has gathered a large dataset on daily bike demands \n",
    "across the American market based on some factors. \n",
    "'''"
   ]
  },
  {
   "cell_type": "code",
   "execution_count": null,
   "metadata": {},
   "outputs": [],
   "source": [
    "# Business Goal:\n",
    "'''\n",
    "    You are required to model the demand for shared bikes with the available independent variables. It will be used by the management to \n",
    "    understand how exactly the demands vary with different features. They can accordingly manipulate the business strategy to meet the \n",
    "    demand levels and meet the customer's expectations. Further, the model will be a good way for management to understand the demand \n",
    "    dynamics of a new market. \n",
    "'''"
   ]
  },
  {
   "cell_type": "code",
   "execution_count": null,
   "metadata": {},
   "outputs": [],
   "source": [
    "#Data Preparation:\n",
    "'''\n",
    "1. You can observe in the dataset that some of the variables like 'weathersit' and 'season' have values as 1, 2, 3, 4 which have specific labels \n",
    "associated with them (as can be seen in the data dictionary). These numeric values associated with the labels may indicate that there is \n",
    "some order to them - which is actually not the case (Check the data dictionary and think why). So, it is advisable to convert such feature \n",
    "values into categorical string values before proceeding with model building. Please refer the data dictionary to get a better understanding \n",
    "of all the independent variables.\n",
    " \n",
    "2. You might notice the column 'yr' with two values 0 and 1 indicating the years 2018 and 2019 respectively. At the first instinct, \n",
    "you might think it is a good idea to drop this column as it only has two values so it might not be a value-add to the model. But in reality, \n",
    "since these bike-sharing systems are slowly gaining popularity, the demand for these bikes is increasing every year proving that the column \n",
    "'yr' might be a good variable for prediction. So think twice before dropping it. \n",
    "'''\n"
   ]
  },
  {
   "cell_type": "code",
   "execution_count": null,
   "metadata": {},
   "outputs": [],
   "source": [
    "# Model Building\n",
    "'''\n",
    "In the dataset provided, you will notice that there are three columns named 'casual', 'registered', and 'cnt'. \n",
    "1. CASUAL => The variable 'casual' indicates the number casual users who have made a rental.\n",
    "2. registered=>  The variable 'registered' on the other hand shows the total number of registered users who have made a booking on a given day. \n",
    "3. CNT => Finally, the 'cnt' variable indicates the total number of bike rentals, including both casual and registered. The model should be \n",
    "built taking this 'cnt' as the target variable.\n",
    "'''\n"
   ]
  },
  {
   "cell_type": "code",
   "execution_count": null,
   "metadata": {},
   "outputs": [],
   "source": [
    "# Model Evaluation:\n",
    "'''\n",
    "    When you're done with model building and residual analysis and have made predictions on the test set, \n",
    "    just make sure you use the following two lines of code to calculate the R-squared score on the test set.\n",
    "'''\n",
    "from sklearn.metrics import r2_score\n",
    "r2_score(y_test, y_pred)\n",
    "\n",
    "'''\n",
    " * where y_test is the test data set for the target variable, and y_pred is the variable containing the predicted values of the target \n",
    " variable on the test set.\n",
    "\n",
    " * Please don't forget to perform this step as the R-squared score on the test set holds some marks. The variable names inside the 'r2_score' \n",
    " function can be different based on the variable names you have chosen.\n",
    " \n",
    "'''"
   ]
  },
  {
   "cell_type": "code",
   "execution_count": null,
   "metadata": {},
   "outputs": [],
   "source": [
    "#Submissions Expected:\n",
    "\n",
    "'''\n",
    "1. Python Notebook: One Python notebook with the whole linear model, predictions, and evaluation.\n",
    "2. Subjective Questions PDF: Apart from the Python notebook, you also need to answer some subjective questions related to linear regression which can be downloaded from the file below. Answer these questions and submit it as a PDF. \n",
    "'''\n"
   ]
  }
 ],
 "metadata": {
  "kernelspec": {
   "display_name": "myenv",
   "language": "python",
   "name": "python3"
  },
  "language_info": {
   "codemirror_mode": {
    "name": "ipython",
    "version": 3
   },
   "file_extension": ".py",
   "mimetype": "text/x-python",
   "name": "python",
   "nbconvert_exporter": "python",
   "pygments_lexer": "ipython3",
   "version": "3.9.12"
  }
 },
 "nbformat": 4,
 "nbformat_minor": 2
}
